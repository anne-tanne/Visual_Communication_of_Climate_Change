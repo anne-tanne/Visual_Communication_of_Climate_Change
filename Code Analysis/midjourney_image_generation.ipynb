{
 "cells": [
  {
   "cell_type": "code",
   "execution_count": 11,
   "id": "d36dd0b1",
   "metadata": {},
   "outputs": [],
   "source": [
    "import http.client\n",
    "import json\n",
    "import time\n",
    "import random\n",
    "import os"
   ]
  },
  {
   "cell_type": "code",
   "execution_count": 2,
   "id": "41d7ec22",
   "metadata": {},
   "outputs": [],
   "source": [
    "def send_request(method, path, api_key, body=None):\n",
    "    \"\"\"Establishes a connection and sends a request to the server.\"\"\"\n",
    "    conn = http.client.HTTPSConnection(\"demo.imagineapi.dev\")\n",
    "    headers = {\n",
    "        'Authorization': f'Bearer {api_key}',  # Authorisation header with API key\n",
    "        'Content-Type': 'application/json'\n",
    "    }\n",
    "    conn.request(method, path, body=json.dumps(body) if body else None, headers=headers)\n",
    "    response = conn.getresponse()\n",
    "    data = json.loads(response.read().decode())\n",
    "    conn.close()\n",
    "    return data"
   ]
  },
  {
   "cell_type": "code",
   "execution_count": 3,
   "id": "bd7fe565",
   "metadata": {},
   "outputs": [],
   "source": [
    "def generate_image(prompt, api_key):\n",
    "    \"\"\"Generates an image based on the prompt and returns the image ID.\"\"\"\n",
    "    data = {\"prompt\": prompt}\n",
    "    response_data = send_request('POST', '/items/images/', api_key, data)\n",
    "    return response_data['data']['id']"
   ]
  },
  {
   "cell_type": "code",
   "execution_count": 4,
   "id": "16fd7be8",
   "metadata": {},
   "outputs": [],
   "source": [
    "def get_image_status(image_id, api_key):\n",
    "    \"\"\"Retrieves the status of the image generation.\"\"\"\n",
    "    response_data = send_request('GET', f\"/items/images/{image_id}\", api_key)\n",
    "    return response_data['data']"
   ]
  },
  {
   "cell_type": "code",
   "execution_count": 5,
   "id": "9f839c14",
   "metadata": {},
   "outputs": [],
   "source": [
    "def wait_for_image(image_id, api_key):\n",
    "    \"\"\"Waits for the image to be generated, checking the status every 5 seconds.\"\"\"\n",
    "    while True:\n",
    "        image_data = get_image_status(image_id, api_key)\n",
    "        if image_data['status'] in ['completed', 'failed']:\n",
    "            return image_data\n",
    "        else:\n",
    "            print(f\"Image generation in progress. Status: {image_data['status']}\")\n",
    "            time.sleep(5)"
   ]
  },
  {
   "cell_type": "markdown",
   "id": "b3f4d9a1",
   "metadata": {},
   "source": [
    "def download_images(image_data, download_path, selection_path):\n",
    "    \"\"\"Downloads the images to specified paths.\"\"\"\n",
    "    if not image_data or 'upscaled_urls' not in image_data:\n",
    "        print(\"No image data provided for download.\")\n",
    "        return\n",
    "\n",
    "    urls = image_data['upscaled_urls']\n",
    "    os.makedirs(download_path, exist_ok=True)\n",
    "    os.makedirs(selection_path, exist_ok=True)\n",
    "\n",
    "    selected_image_url = random.choice(urls)\n",
    "    for url in urls:\n",
    "        file_name = url.split('/')[-1]\n",
    "        file_path = os.path.join(selection_path if url == selected_image_url else download_path, file_name)\n",
    "\n",
    "        response = requests.get(url)\n",
    "        if response.status_code == 200:\n",
    "            with open(file_path, 'wb') as file:\n",
    "                file.write(response.content)\n",
    "            print(f\"Image downloaded successfully: {file_path}\")\n",
    "        else:\n",
    "            print(f\"Error downloading image from {url}: {response.status_code}\")"
   ]
  },
  {
   "cell_type": "code",
   "execution_count": 13,
   "id": "736d18d8",
   "metadata": {},
   "outputs": [],
   "source": [
    "def download_images(image_data, download_path):\n",
    "    \"\"\"Downloads the images to the specified path.\"\"\"\n",
    "    if not image_data or 'upscaled_urls' not in image_data:\n",
    "        print(\"No image data provided for download.\")\n",
    "        return\n",
    "\n",
    "    urls = image_data['upscaled_urls']\n",
    "    os.makedirs(download_path, exist_ok=True)\n",
    "\n",
    "    for url in urls:\n",
    "        file_name = url.split('/')[-1]\n",
    "        file_path = os.path.join(download_path, file_name)\n",
    "\n",
    "        response = requests.get(url)\n",
    "        if response.status_code == 200:\n",
    "            with open(file_path, 'wb') as file:\n",
    "                file.write(response.content)\n",
    "            print(f\"Image downloaded successfully: {file_path}\")\n",
    "        else:\n",
    "            print(f\"Error downloading image from {url}: {response.status_code}\")\n"
   ]
  },
  {
   "cell_type": "code",
   "execution_count": 7,
   "id": "987769fc",
   "metadata": {},
   "outputs": [
    {
     "name": "stdout",
     "output_type": "stream",
     "text": [
      "Image generation in progress. Status: pending\n",
      "Image generation in progress. Status: pending\n",
      "Image generation in progress. Status: in-progress\n",
      "Image generation in progress. Status: in-progress\n",
      "Image generation in progress. Status: in-progress\n",
      "Image generation in progress. Status: in-progress\n",
      "Image generation in progress. Status: in-progress\n",
      "Image generation in progress. Status: in-progress\n",
      "Completed image details:\n",
      "{'id': '2620f9a6-f109-46b0-bed9-cf9e7f01b04a', 'prompt': 'a photorealistic image of a tsunami', 'results': '43aef7b2-f76c-4a04-950d-2f2590cbe1b5', 'user_created': '988dd75e-d15c-4938-a763-c5d2d5e6ea4c', 'date_created': '2024-01-01T10:22:01.938Z', 'status': 'completed', 'progress': None, 'url': 'https://cl.imagineapi.dev/assets/43aef7b2-f76c-4a04-950d-2f2590cbe1b5/43aef7b2-f76c-4a04-950d-2f2590cbe1b5.png', 'error': None, 'upscaled_urls': ['https://cl.imagineapi.dev/assets/bad1e2a9-9cb3-484b-bf52-bde7bc094ebe/bad1e2a9-9cb3-484b-bf52-bde7bc094ebe.png', 'https://cl.imagineapi.dev/assets/beb05a11-2b0b-47e5-aac4-f182ef532924/beb05a11-2b0b-47e5-aac4-f182ef532924.png', 'https://cl.imagineapi.dev/assets/28a888a9-1810-4e3c-ad91-5bbd6ce3d57e/28a888a9-1810-4e3c-ad91-5bbd6ce3d57e.png', 'https://cl.imagineapi.dev/assets/7fbffbb1-b378-4a52-beb1-8658c4c8baed/7fbffbb1-b378-4a52-beb1-8658c4c8baed.png'], 'upscaled': ['28a888a9-1810-4e3c-ad91-5bbd6ce3d57e', '7fbffbb1-b378-4a52-beb1-8658c4c8baed', 'bad1e2a9-9cb3-484b-bf52-bde7bc094ebe', 'beb05a11-2b0b-47e5-aac4-f182ef532924']}\n"
     ]
    }
   ],
   "source": [
    "# Example usage\n",
    "api_key = '5tE5Zjk4iIPFRituOqlCbbNSOp74TW6J'\n",
    "prompt = \"a photorealistic image of a tsunami\"\n",
    "\n",
    "image_id = generate_image(prompt, api_key)\n",
    "image_data = wait_for_image(image_id, api_key)\n",
    "\n",
    "download_path = \"downloads\"\n",
    "selection_path = \"selection\"\n",
    "download_images(image_data, download_path, selection_path)\n"
   ]
  },
  {
   "cell_type": "code",
   "execution_count": 15,
   "id": "5ee2e499",
   "metadata": {},
   "outputs": [
    {
     "name": "stdout",
     "output_type": "stream",
     "text": [
      "Image downloaded successfully: downloads/bad1e2a9-9cb3-484b-bf52-bde7bc094ebe.png\n",
      "Image downloaded successfully: downloads/beb05a11-2b0b-47e5-aac4-f182ef532924.png\n",
      "Image downloaded successfully: downloads/28a888a9-1810-4e3c-ad91-5bbd6ce3d57e.png\n",
      "Image downloaded successfully: downloads/7fbffbb1-b378-4a52-beb1-8658c4c8baed.png\n"
     ]
    }
   ],
   "source": [
    "\n",
    "download_path = \"downloads\"\n",
    "download_images(image_data, download_path)\n"
   ]
  }
 ],
 "metadata": {
  "kernelspec": {
   "display_name": "Python 3 (ipykernel)",
   "language": "python",
   "name": "python3"
  },
  "language_info": {
   "codemirror_mode": {
    "name": "ipython",
    "version": 3
   },
   "file_extension": ".py",
   "mimetype": "text/x-python",
   "name": "python",
   "nbconvert_exporter": "python",
   "pygments_lexer": "ipython3",
   "version": "3.9.12"
  }
 },
 "nbformat": 4,
 "nbformat_minor": 5
}
