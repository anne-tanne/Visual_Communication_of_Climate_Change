{
 "cells": [
  {
   "cell_type": "code",
   "execution_count": 1,
   "id": "7e0b8567",
   "metadata": {},
   "outputs": [],
   "source": [
    "from skimage.metrics import structural_similarity as ssim\n",
    "from PIL import Image\n",
    "import numpy as np"
   ]
  },
  {
   "cell_type": "code",
   "execution_count": 2,
   "id": "b51cbfb9",
   "metadata": {},
   "outputs": [],
   "source": [
    "def calculate_ssim(imageA, imageB):\n",
    "    # Convert images to grayscale\n",
    "    imageA = np.array(imageA.convert('L'))\n",
    "    imageB = np.array(imageB.convert('L'))\n",
    "    # Calculate SSIM\n",
    "    score, _ = ssim(imageA, imageB, full=True)\n",
    "    return score"
   ]
  },
  {
   "cell_type": "code",
   "execution_count": 3,
   "id": "347c03fd",
   "metadata": {},
   "outputs": [],
   "source": [
    "image1 = Image.open('/Users/annesophie/Downloads/image1.png')\n",
    "image2 = Image.open('/Users/annesophie/Downloads/image2.png')\n",
    "image1_path = ''/Users/annesophie/Downloads/image1.png''\n"
   ]
  },
  {
   "cell_type": "code",
   "execution_count": 4,
   "id": "6ee0cec7",
   "metadata": {},
   "outputs": [],
   "source": [
    "ssim_score = calculate_ssim(image1, image2)"
   ]
  },
  {
   "cell_type": "code",
   "execution_count": 5,
   "id": "5ff9ec28",
   "metadata": {},
   "outputs": [
    {
     "name": "stdout",
     "output_type": "stream",
     "text": [
      "SSIM: 0.17744834186517666\n"
     ]
    }
   ],
   "source": [
    "print(f\"SSIM: {ssim_score}\")\n"
   ]
  },
  {
   "cell_type": "code",
   "execution_count": null,
   "id": "18bf1837",
   "metadata": {},
   "outputs": [],
   "source": []
  },
  {
   "cell_type": "code",
   "execution_count": 7,
   "id": "9bd02407",
   "metadata": {},
   "outputs": [],
   "source": [
    "import matplotlib.pyplot as plt\n",
    "import numpy as np\n",
    "import cv2"
   ]
  },
  {
   "cell_type": "code",
   "execution_count": 8,
   "id": "18dd9f12",
   "metadata": {},
   "outputs": [],
   "source": [
    "# Function to analyze an image and extract its visual attributes\n",
    "def analyze_image(image_path):\n",
    "    # Read the image in BGR format\n",
    "    image = cv2.imread(image_path)\n",
    "    \n",
    "    # Convert the image to RGB format\n",
    "    image_rgb = cv2.cvtColor(image, cv2.COLOR_BGR2RGB)\n",
    "    \n",
    "    # Convert the image to HSV format for brightness and saturation analysis\n",
    "    image_hsv = cv2.cvtColor(image, cv2.COLOR_BGR2HSV)\n",
    "    \n",
    "    # Calculate the average color (in RGB)\n",
    "    average_color = np.mean(image_rgb, axis=(0, 1))\n",
    "    \n",
    "    # Calculate the average brightness (V channel of HSV)\n",
    "    average_brightness = np.mean(image_hsv[:, :, 2])\n",
    "    \n",
    "    # Calculate the average saturation (S channel of HSV)\n",
    "    average_saturation = np.mean(image_hsv[:, :, 1])\n",
    "    \n",
    "    # Display the image\n",
    "    plt.imshow(image_rgb)\n",
    "    plt.axis('off')\n",
    "    plt.title('Analyzed Image')\n",
    "    plt.show()\n",
    "    \n",
    "    # Return the computed visual attributes\n",
    "    return average_color, average_brightness, average_saturation\n"
   ]
  },
  {
   "cell_type": "code",
   "execution_count": 9,
   "id": "6d0a8789",
   "metadata": {},
   "outputs": [
    {
     "ename": "TypeError",
     "evalue": "Can't convert object to 'str' for 'filename'",
     "output_type": "error",
     "traceback": [
      "\u001b[0;31m---------------------------------------------------------------------------\u001b[0m",
      "\u001b[0;31mTypeError\u001b[0m                                 Traceback (most recent call last)",
      "Input \u001b[0;32mIn [9]\u001b[0m, in \u001b[0;36m<cell line: 1>\u001b[0;34m()\u001b[0m\n\u001b[0;32m----> 1\u001b[0m visual_attributes \u001b[38;5;241m=\u001b[39m \u001b[43manalyze_image\u001b[49m\u001b[43m(\u001b[49m\u001b[43mimage1\u001b[49m\u001b[43m)\u001b[49m\n",
      "Input \u001b[0;32mIn [8]\u001b[0m, in \u001b[0;36manalyze_image\u001b[0;34m(image_path)\u001b[0m\n\u001b[1;32m      2\u001b[0m \u001b[38;5;28;01mdef\u001b[39;00m \u001b[38;5;21manalyze_image\u001b[39m(image_path):\n\u001b[1;32m      3\u001b[0m     \u001b[38;5;66;03m# Read the image in BGR format\u001b[39;00m\n\u001b[0;32m----> 4\u001b[0m     image \u001b[38;5;241m=\u001b[39m \u001b[43mcv2\u001b[49m\u001b[38;5;241;43m.\u001b[39;49m\u001b[43mimread\u001b[49m\u001b[43m(\u001b[49m\u001b[43mimage_path\u001b[49m\u001b[43m)\u001b[49m\n\u001b[1;32m      6\u001b[0m     \u001b[38;5;66;03m# Convert the image to RGB format\u001b[39;00m\n\u001b[1;32m      7\u001b[0m     image_rgb \u001b[38;5;241m=\u001b[39m cv2\u001b[38;5;241m.\u001b[39mcvtColor(image, cv2\u001b[38;5;241m.\u001b[39mCOLOR_BGR2RGB)\n",
      "\u001b[0;31mTypeError\u001b[0m: Can't convert object to 'str' for 'filename'"
     ]
    }
   ],
   "source": [
    "visual_attributes = analyze_image(image1)\n"
   ]
  }
 ],
 "metadata": {
  "kernelspec": {
   "display_name": "Python 3 (ipykernel)",
   "language": "python",
   "name": "python3"
  },
  "language_info": {
   "codemirror_mode": {
    "name": "ipython",
    "version": 3
   },
   "file_extension": ".py",
   "mimetype": "text/x-python",
   "name": "python",
   "nbconvert_exporter": "python",
   "pygments_lexer": "ipython3",
   "version": "3.9.12"
  }
 },
 "nbformat": 4,
 "nbformat_minor": 5
}
